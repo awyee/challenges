{
 "cells": [
  {
   "cell_type": "markdown",
   "metadata": {},
   "source": [
    "# Tagup Data Science Exercise\n",
    "\n",
    "ExampleCo, Inc is gathering several types of data for its fleet of very expensive machines.  These very expensive machines have three operating modes: *normal*, *faulty* and *failed*.   The machines run all the time, and usually they are in normal mode.  However, in the event that the machine enters faulty mode, the company would like to be aware of this as soon as possible.  This way they can take preventative action to avoid entering failed mode and hopefully save themselves lots of money.\n",
    "\n",
    "They collect four kinds of timeseries data for each machine in their fleet of very expensive machines.  When a machine is operating in *normal* mode the data behaves in a fairly predictable way, but with a moderate amount of noise.  Before a machine fails it will ramp into *faulty* mode, during which the data appears visibly quite different.  Finally, when a machine fails it enters a third, and distinctly different, *failed* mode where all signals are very close to 0.\n",
    "\n",
    "You can download the data here: [exampleco_data](https://drive.google.com/open?id=1b12u6rzkG1AxB6wLGl7IBVoaoSoZLHNR)\n",
    "\n",
    "__Your main objective: to develop an automated method to pinpoint the times of fault and failure in this machine__.  Keep in mind that you will be sharing these results with the executives at ExampleCo, so to the best of your ability, try to explain what you are doing, what you've shown, and why you think your predictions are good.\n",
    "\n",
    "\n",
    "A few notes to help:\n",
    "1. A good place to start is by addressing the noise due to communication\n",
    "   errors.\n",
    "2. Feel free to use any libraries you like. Your final results should be\n",
    "   presented in this Python notebook.\n",
    "3. There are no constraints on the techniques you bring to bear, we are curious\n",
    "   to see how you think and what sort of resources you have in your toolbox.\n",
    "4. Be sure to clearly articulate what you did, why you did it, and how the\n",
    "   results should be interpreted. In particular you should be aware of the\n",
    "   limitations of whatever approach or approaches you take.\n",
    "5. Don't feel compelled to use all the data if you're not sure how. Feel free\n",
    "   to focus on data from a single unit if that makes it easier to get started.\n",
    "6. Don't hesitate to reach out to datasciencejobs@tagup.io with any questions!"
   ]
  },
  {
   "cell_type": "code",
   "execution_count": 6,
   "metadata": {},
   "outputs": [],
   "source": [
    "# To help you get started...\n",
    "from IPython.display import display\n",
    "import pandas as pd\n",
    "import matplotlib.pyplot as plt\n",
    "from os.path import join, isfile\n",
    "from os import listdir\n",
    "import re\n",
    "%matplotlib inline \n",
    "\n",
    "path = 'exampleco_data'"
   ]
  },
  {
   "cell_type": "code",
   "execution_count": 4,
   "metadata": {},
   "outputs": [
    {
     "data": {
      "image/png": "[encoded data removed]",
      "text/plain": [
       "<Figure size 432x288 with 1 Axes>"
      ]
     },
     "metadata": {
      "needs_background": "light"
     },
     "output_type": "display_data"
    }
   ],
   "source": [
    "\n",
    "\n",
    "data = pd.read_csv('exampleco_data/machine_0.csv',index_col=0)\n",
    "\n",
    "plt.plot(range(len(data)), data)\n",
    "plt.show()"
   ]
  },
  {
   "cell_type": "code",
   "execution_count": 9,
   "metadata": {},
   "outputs": [
    {
     "name": "stdout",
     "output_type": "stream",
     "text": [
      "machine_0.csv added to dataframe\n",
      "machine_1.csv added to dataframe\n",
      "machine_10.csv added to dataframe\n",
      "machine_11.csv added to dataframe\n",
      "machine_12.csv added to dataframe\n",
      "machine_13.csv added to dataframe\n",
      "machine_14.csv added to dataframe\n",
      "machine_15.csv added to dataframe\n",
      "machine_16.csv added to dataframe\n",
      "machine_17.csv added to dataframe\n",
      "machine_18.csv added to dataframe\n",
      "machine_19.csv added to dataframe\n",
      "machine_2.csv added to dataframe\n",
      "machine_3.csv added to dataframe\n",
      "machine_4.csv added to dataframe\n",
      "machine_5.csv added to dataframe\n",
      "machine_6.csv added to dataframe\n",
      "machine_7.csv added to dataframe\n",
      "machine_8.csv added to dataframe\n",
      "machine_9.csv added to dataframe\n"
     ]
    }
   ],
   "source": [
    "df_machine_data = pd.DataFrame()\n",
    "\n",
    "files = [f for f in listdir(path) if isfile(join(path, f))]\n",
    "\n",
    "for file in files:\n",
    "    if re.match(r'machine_[0-9]+.csv', file):\n",
    "        df_ind_machine_data = pd.read_csv(join(path, file),index_col=0)\n",
    "        df_ind_machine_data['source'] = file\n",
    "        df_machine_data = df_machine_data.append(df_ind_machine_data)\n",
    "        print(file + ' added to dataframe')\n",
    "        "
   ]
  },
  {
   "cell_type": "code",
   "execution_count": 10,
   "metadata": {},
   "outputs": [
    {
     "data": {
      "text/html": [
       "<div>\n",
       "<style scoped>\n",
       "    .dataframe tbody tr th:only-of-type {\n",
       "        vertical-align: middle;\n",
       "    }\n",
       "\n",
       "    .dataframe tbody tr th {\n",
       "        vertical-align: top;\n",
       "    }\n",
       "\n",
       "    .dataframe thead th {\n",
       "        text-align: right;\n",
       "    }\n",
       "</style>\n",
       "<table border=\"1\" class=\"dataframe\">\n",
       "  <thead>\n",
       "    <tr style=\"text-align: right;\">\n",
       "      <th></th>\n",
       "      <th>0</th>\n",
       "      <th>1</th>\n",
       "      <th>2</th>\n",
       "      <th>3</th>\n",
       "      <th>source</th>\n",
       "    </tr>\n",
       "  </thead>\n",
       "  <tbody>\n",
       "    <tr>\n",
       "      <th>2019-01-01 00:00:00.000000000</th>\n",
       "      <td>12.626096</td>\n",
       "      <td>8.803120</td>\n",
       "      <td>-11.809200</td>\n",
       "      <td>10.083961</td>\n",
       "      <td>machine_0.csv</td>\n",
       "    </tr>\n",
       "    <tr>\n",
       "      <th>2019-01-01 08:00:09.603201067</th>\n",
       "      <td>10.831994</td>\n",
       "      <td>2.816327</td>\n",
       "      <td>11.554778</td>\n",
       "      <td>21.892853</td>\n",
       "      <td>machine_0.csv</td>\n",
       "    </tr>\n",
       "    <tr>\n",
       "      <th>2019-01-01 16:00:19.206402134</th>\n",
       "      <td>21.083510</td>\n",
       "      <td>-0.672645</td>\n",
       "      <td>-17.839178</td>\n",
       "      <td>-1.349024</td>\n",
       "      <td>machine_0.csv</td>\n",
       "    </tr>\n",
       "    <tr>\n",
       "      <th>2019-01-02 00:00:28.809603201</th>\n",
       "      <td>32.294495</td>\n",
       "      <td>6.525132</td>\n",
       "      <td>-13.498586</td>\n",
       "      <td>-4.250752</td>\n",
       "      <td>machine_0.csv</td>\n",
       "    </tr>\n",
       "    <tr>\n",
       "      <th>2019-01-02 08:00:38.412804268</th>\n",
       "      <td>28.057100</td>\n",
       "      <td>3.691359</td>\n",
       "      <td>21.984744</td>\n",
       "      <td>13.670561</td>\n",
       "      <td>machine_0.csv</td>\n",
       "    </tr>\n",
       "  </tbody>\n",
       "</table>\n",
       "</div>"
      ],
      "text/plain": [
       "                                       0         1          2          3  \\\n",
       "2019-01-01 00:00:00.000000000  12.626096  8.803120 -11.809200  10.083961   \n",
       "2019-01-01 08:00:09.603201067  10.831994  2.816327  11.554778  21.892853   \n",
       "2019-01-01 16:00:19.206402134  21.083510 -0.672645 -17.839178  -1.349024   \n",
       "2019-01-02 00:00:28.809603201  32.294495  6.525132 -13.498586  -4.250752   \n",
       "2019-01-02 08:00:38.412804268  28.057100  3.691359  21.984744  13.670561   \n",
       "\n",
       "                                      source  \n",
       "2019-01-01 00:00:00.000000000  machine_0.csv  \n",
       "2019-01-01 08:00:09.603201067  machine_0.csv  \n",
       "2019-01-01 16:00:19.206402134  machine_0.csv  \n",
       "2019-01-02 00:00:28.809603201  machine_0.csv  \n",
       "2019-01-02 08:00:38.412804268  machine_0.csv  "
      ]
     },
     "execution_count": 10,
     "metadata": {},
     "output_type": "execute_result"
    }
   ],
   "source": [
    "df_machine_data.head()"
   ]
  },
  {
   "cell_type": "code",
   "execution_count": null,
   "metadata": {},
   "outputs": [],
   "source": []
  },
  {
   "cell_type": "code",
   "execution_count": null,
   "metadata": {},
   "outputs": [],
   "source": []
  }
 ],
 "metadata": {
  "kernelspec": {
   "display_name": "Python 3",
   "language": "python",
   "name": "python3"
  },
  "language_info": {
   "codemirror_mode": {
    "name": "ipython",
    "version": 3
   },
   "file_extension": ".py",
   "mimetype": "text/x-python",
   "name": "python",
   "nbconvert_exporter": "python",
   "pygments_lexer": "ipython3",
   "version": "3.6.9"
  }
 },
 "nbformat": 4,
 "nbformat_minor": 2
}
